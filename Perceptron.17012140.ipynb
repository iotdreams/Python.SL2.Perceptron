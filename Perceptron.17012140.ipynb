{
 "cells": [
  {
   "cell_type": "markdown",
   "metadata": {},
   "source": [
    "# Erick Pineda Amézquita  - - - - - 17012140\n",
    "### Definición de funciones lógicas OR, AND, NOT y XOR utilizando perceptrones"
   ]
  },
  {
   "cell_type": "markdown",
   "metadata": {},
   "source": [
    "### Perceptrón:\n",
    "##### Tomado de la Wikipedia\n",
    "En el campo de las Redes Neuronales, el perceptrón, creado por Frank Rosenblatt, se refiere a:\n",
    "\n",
    "La neurona artificial o unidad básica de inferencia en forma de discriminador lineal, a partir de lo cual se desarrolla un algoritmo capaz de generar un criterio para seleccionar un sub-grupo a partir de un grupo de componentes más grande.\n",
    "\n",
    "La limitación de este algoritmo es que si dibujamos en un gráfico estos elementos, se deben poder separar con un hiperplano únicamente los elementos \"deseados\" discriminándolos (separándolos) de los \"no deseados\".\n",
    "\n",
    "------------------------------------------------------------------------------------------\n",
    "En este notebook se estará utilizando el concepto de perceptrón, para ello se diseñarán las operaciones básicas OR, NOT, AND y XOR.\n",
    "Se han escogido los pesos aleatoriamente para que cada función realice su debida acción y se han asignado a la variable \"W\"\n",
    "El bias se ha asignado con el valor estatico de 1.\n",
    "\n",
    "#### Se definen dos funciones importantes:\n",
    "1. Función de activación\n",
    "2. Función de red neural"
   ]
  },
  {
   "cell_type": "code",
   "execution_count": 1,
   "metadata": {},
   "outputs": [],
   "source": [
    "## importar librerias\n",
    "import numpy as np"
   ]
  },
  {
   "cell_type": "code",
   "execution_count": 2,
   "metadata": {},
   "outputs": [],
   "source": [
    "def activacion(value):\n",
    "    ##si es mayor a cero, es uno\n",
    "    if value >= 0:\n",
    "        return 1\n",
    "    else:\n",
    "        return 0\n",
    "    "
   ]
  },
  {
   "cell_type": "code",
   "execution_count": 3,
   "metadata": {},
   "outputs": [],
   "source": [
    "def neural_network(inputs,weights):\n",
    "    return np.matmul(inputs,weights)\n"
   ]
  },
  {
   "cell_type": "code",
   "execution_count": 4,
   "metadata": {},
   "outputs": [],
   "source": [
    "bias=1\n"
   ]
  },
  {
   "cell_type": "markdown",
   "metadata": {},
   "source": [
    "## Funcion OR"
   ]
  },
  {
   "cell_type": "code",
   "execution_count": 5,
   "metadata": {},
   "outputs": [],
   "source": [
    "def funcionOR(x1,x2):\n",
    "    W=np.array([[1],[1],[-1]])\n",
    "    inputs=np.array([x1,x2,bias])\n",
    "    prediccion=activacion(neural_network(inputs,W))\n",
    "    print (\"Resultado de : \"+ str(inputs[0])+ \" OR \" +str(inputs[1])+ \" es: \"+ str(prediccion))\n",
    "    return prediccion\n",
    "\n"
   ]
  },
  {
   "cell_type": "markdown",
   "metadata": {},
   "source": [
    "Comprobación de la función OR:"
   ]
  },
  {
   "cell_type": "code",
   "execution_count": 6,
   "metadata": {},
   "outputs": [
    {
     "name": "stdout",
     "output_type": "stream",
     "text": [
      "Resultado de : 0 OR 0 es: 0\n",
      "Resultado de : 0 OR 1 es: 1\n",
      "Resultado de : 1 OR 0 es: 1\n",
      "Resultado de : 1 OR 1 es: 1\n"
     ]
    },
    {
     "data": {
      "text/plain": [
       "1"
      ]
     },
     "execution_count": 6,
     "metadata": {},
     "output_type": "execute_result"
    }
   ],
   "source": [
    "\n",
    "funcionOR(0,0)\n",
    "funcionOR(0,1)\n",
    "funcionOR(1,0)\n",
    "funcionOR(1,1)"
   ]
  },
  {
   "cell_type": "markdown",
   "metadata": {},
   "source": [
    "## Función AND"
   ]
  },
  {
   "cell_type": "code",
   "execution_count": 7,
   "metadata": {},
   "outputs": [],
   "source": [
    "def funcionAND(x1,x2):\n",
    "    W=np.array([[1],[1],[-1.5]])\n",
    "    inputs=np.array([x1,x2,bias])\n",
    "    prediccion=activacion(neural_network(inputs,W))\n",
    "    print (\"Resultado de : \"+ str(inputs[0])+ \" AND \" +str(inputs[1])+ \" es: \"+ str(prediccion))\n",
    "    return prediccion\n"
   ]
  },
  {
   "cell_type": "markdown",
   "metadata": {},
   "source": [
    "Comprobación de la función AND:"
   ]
  },
  {
   "cell_type": "code",
   "execution_count": 8,
   "metadata": {},
   "outputs": [
    {
     "name": "stdout",
     "output_type": "stream",
     "text": [
      "Resultado de : 0 AND 0 es: 0\n",
      "Resultado de : 0 AND 1 es: 0\n",
      "Resultado de : 1 AND 0 es: 0\n",
      "Resultado de : 1 AND 1 es: 1\n"
     ]
    },
    {
     "data": {
      "text/plain": [
       "1"
      ]
     },
     "execution_count": 8,
     "metadata": {},
     "output_type": "execute_result"
    }
   ],
   "source": [
    "funcionAND(0,0)\n",
    "funcionAND(0,1)\n",
    "funcionAND(1,0)\n",
    "funcionAND(1,1)"
   ]
  },
  {
   "cell_type": "markdown",
   "metadata": {},
   "source": [
    "## Función Not"
   ]
  },
  {
   "cell_type": "code",
   "execution_count": 9,
   "metadata": {},
   "outputs": [],
   "source": [
    "def funcionNOT(x1):\n",
    "    x2  = x1\n",
    "    W=np.array([[-1],[0.5],[0]])\n",
    "    inputs=np.array([x1,x2,bias])\n",
    "    prediccion=activacion(neural_network(inputs,W))\n",
    "    print (\"Resultado de NOT \"+ str(inputs[0])+ \" es: \"+ str(prediccion))\n",
    "    return prediccion\n"
   ]
  },
  {
   "cell_type": "markdown",
   "metadata": {},
   "source": [
    "Comprobación de la función NOT:"
   ]
  },
  {
   "cell_type": "code",
   "execution_count": 10,
   "metadata": {},
   "outputs": [
    {
     "name": "stdout",
     "output_type": "stream",
     "text": [
      "Resultado de NOT 0 es: 1\n",
      "Resultado de NOT 1 es: 0\n"
     ]
    },
    {
     "data": {
      "text/plain": [
       "0"
      ]
     },
     "execution_count": 10,
     "metadata": {},
     "output_type": "execute_result"
    }
   ],
   "source": [
    "funcionNOT(0)\n",
    "funcionNOT(1)"
   ]
  },
  {
   "cell_type": "markdown",
   "metadata": {},
   "source": [
    "## Funcion XOR\n",
    "Observar que ésta función es compuesta por medio de las 3 funciones básicas anteriormente definidas.\n"
   ]
  },
  {
   "cell_type": "code",
   "execution_count": 11,
   "metadata": {},
   "outputs": [],
   "source": [
    "def funcionXOR(a,b):\n",
    "    prediccion=funcionAND(    funcionNOT(funcionAND(a,b))      , funcionOR(a,b))\n",
    "    print (\"Resultado de : \"+ str(a)+ \" XOR \" +str(b)+ \" es: \"+ str(prediccion))\n",
    "    return prediccion\n"
   ]
  },
  {
   "cell_type": "markdown",
   "metadata": {},
   "source": [
    "Comprobación de la función XOR, observar el detalle del proceso que se va realizando en conjunto con las funciones AND, OR y NOT involucradas paso por paso."
   ]
  },
  {
   "cell_type": "code",
   "execution_count": 12,
   "metadata": {},
   "outputs": [
    {
     "name": "stdout",
     "output_type": "stream",
     "text": [
      "------------------------------------------------------------------------------------------\n",
      "Resultado de : 0 AND 0 es: 0\n",
      "Resultado de NOT 0 es: 1\n",
      "Resultado de : 0 OR 0 es: 0\n",
      "Resultado de : 1 AND 0 es: 0\n",
      "Resultado de : 0 XOR 0 es: 0\n",
      "------------------------------------------------------------------------------------------\n",
      "Resultado de : 0 AND 1 es: 0\n",
      "Resultado de NOT 0 es: 1\n",
      "Resultado de : 0 OR 1 es: 1\n",
      "Resultado de : 1 AND 1 es: 1\n",
      "Resultado de : 0 XOR 1 es: 1\n",
      "------------------------------------------------------------------------------------------\n",
      "Resultado de : 1 AND 0 es: 0\n",
      "Resultado de NOT 0 es: 1\n",
      "Resultado de : 1 OR 0 es: 1\n",
      "Resultado de : 1 AND 1 es: 1\n",
      "Resultado de : 1 XOR 0 es: 1\n",
      "------------------------------------------------------------------------------------------\n",
      "Resultado de : 1 AND 1 es: 1\n",
      "Resultado de NOT 1 es: 0\n",
      "Resultado de : 1 OR 1 es: 1\n",
      "Resultado de : 0 AND 1 es: 0\n",
      "Resultado de : 1 XOR 1 es: 0\n",
      "------------------------------------------------------------------------------------------\n"
     ]
    }
   ],
   "source": [
    "print(\"-\"*90)\n",
    "funcionXOR(0,0)\n",
    "\n",
    "print(\"-\"*90)\n",
    "funcionXOR(0,1)\n",
    "\n",
    "print(\"-\"*90)\n",
    "funcionXOR(1,0)\n",
    "\n",
    "print(\"-\"*90)\n",
    "funcionXOR(1,1)\n",
    "print(\"-\"*90)"
   ]
  }
 ],
 "metadata": {
  "kernelspec": {
   "display_name": "Python 3",
   "language": "python",
   "name": "python3"
  },
  "language_info": {
   "codemirror_mode": {
    "name": "ipython",
    "version": 3
   },
   "file_extension": ".py",
   "mimetype": "text/x-python",
   "name": "python",
   "nbconvert_exporter": "python",
   "pygments_lexer": "ipython3",
   "version": "3.7.1"
  }
 },
 "nbformat": 4,
 "nbformat_minor": 2
}
